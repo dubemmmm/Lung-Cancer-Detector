{
 "cells": [
  {
   "cell_type": "code",
   "execution_count": 2,
   "metadata": {},
   "outputs": [],
   "source": [
    "import torch\n",
    "import os\n",
    "import cv2\n",
    "import numpy as np\n",
    "import pandas as pd\n",
    "import seaborn as sns\n",
    "import tensorflow as tf\n",
    "import matplotlib.pyplot as plt\n",
    "import torchvision.transforms as transforms\n",
    "from torchvision.datasets import ImageFolder\n",
    "from torch.utils.data import DataLoader\n",
    "import torch.nn.functional as F\n",
    "from sklearn.metrics import mean_squared_error, mean_absolute_error, r2_score\n",
    "from sklearn.metrics import classification_report, confusion_matrix, roc_curve, auc"
   ]
  },
  {
   "cell_type": "code",
   "execution_count": 5,
   "metadata": {},
   "outputs": [],
   "source": [
    "transform = transforms.Compose([\n",
    "    transforms.Resize((28, 28)),  # Resize images to the required input size of your model\n",
    "    transforms.ToTensor(),\n",
    "])\n",
    "\n",
    "test_dataset = ImageFolder('Lung cancer dataset 2/test', transform=transform)\n",
    "test_loader = DataLoader(test_dataset, batch_size=32, shuffle=False)\n"
   ]
  },
  {
   "cell_type": "code",
   "execution_count": 8,
   "metadata": {},
   "outputs": [
    {
     "ename": "UnpicklingError",
     "evalue": "invalid load key, 'H'.",
     "output_type": "error",
     "traceback": [
      "\u001b[0;31m---------------------------------------------------------------------------\u001b[0m",
      "\u001b[0;31mUnpicklingError\u001b[0m                           Traceback (most recent call last)",
      "Cell \u001b[0;32mIn[8], line 1\u001b[0m\n\u001b[0;32m----> 1\u001b[0m model \u001b[38;5;241m=\u001b[39m \u001b[43mtorch\u001b[49m\u001b[38;5;241;43m.\u001b[39;49m\u001b[43mload\u001b[49m\u001b[43m(\u001b[49m\u001b[38;5;124;43m'\u001b[39;49m\u001b[38;5;124;43mbest_lung_cancer_model.h5\u001b[39;49m\u001b[38;5;124;43m'\u001b[39;49m\u001b[43m)\u001b[49m\n\u001b[1;32m      2\u001b[0m model\u001b[38;5;241m.\u001b[39meval()  \u001b[38;5;66;03m# Set the model to evaluation mode\u001b[39;00m\n\u001b[1;32m      4\u001b[0m correct \u001b[38;5;241m=\u001b[39m \u001b[38;5;241m0\u001b[39m\n",
      "File \u001b[0;32m~/anaconda3/envs/datascience/lib/python3.11/site-packages/torch/serialization.py:1040\u001b[0m, in \u001b[0;36mload\u001b[0;34m(f, map_location, pickle_module, weights_only, mmap, **pickle_load_args)\u001b[0m\n\u001b[1;32m   1038\u001b[0m     \u001b[38;5;28;01mexcept\u001b[39;00m \u001b[38;5;167;01mRuntimeError\u001b[39;00m \u001b[38;5;28;01mas\u001b[39;00m e:\n\u001b[1;32m   1039\u001b[0m         \u001b[38;5;28;01mraise\u001b[39;00m pickle\u001b[38;5;241m.\u001b[39mUnpicklingError(UNSAFE_MESSAGE \u001b[38;5;241m+\u001b[39m \u001b[38;5;28mstr\u001b[39m(e)) \u001b[38;5;28;01mfrom\u001b[39;00m \u001b[38;5;28;01mNone\u001b[39;00m\n\u001b[0;32m-> 1040\u001b[0m \u001b[38;5;28;01mreturn\u001b[39;00m \u001b[43m_legacy_load\u001b[49m\u001b[43m(\u001b[49m\u001b[43mopened_file\u001b[49m\u001b[43m,\u001b[49m\u001b[43m \u001b[49m\u001b[43mmap_location\u001b[49m\u001b[43m,\u001b[49m\u001b[43m \u001b[49m\u001b[43mpickle_module\u001b[49m\u001b[43m,\u001b[49m\u001b[43m \u001b[49m\u001b[38;5;241;43m*\u001b[39;49m\u001b[38;5;241;43m*\u001b[39;49m\u001b[43mpickle_load_args\u001b[49m\u001b[43m)\u001b[49m\n",
      "File \u001b[0;32m~/anaconda3/envs/datascience/lib/python3.11/site-packages/torch/serialization.py:1258\u001b[0m, in \u001b[0;36m_legacy_load\u001b[0;34m(f, map_location, pickle_module, **pickle_load_args)\u001b[0m\n\u001b[1;32m   1252\u001b[0m \u001b[38;5;28;01mif\u001b[39;00m \u001b[38;5;129;01mnot\u001b[39;00m \u001b[38;5;28mhasattr\u001b[39m(f, \u001b[38;5;124m'\u001b[39m\u001b[38;5;124mreadinto\u001b[39m\u001b[38;5;124m'\u001b[39m) \u001b[38;5;129;01mand\u001b[39;00m (\u001b[38;5;241m3\u001b[39m, \u001b[38;5;241m8\u001b[39m, \u001b[38;5;241m0\u001b[39m) \u001b[38;5;241m<\u001b[39m\u001b[38;5;241m=\u001b[39m sys\u001b[38;5;241m.\u001b[39mversion_info \u001b[38;5;241m<\u001b[39m (\u001b[38;5;241m3\u001b[39m, \u001b[38;5;241m8\u001b[39m, \u001b[38;5;241m2\u001b[39m):\n\u001b[1;32m   1253\u001b[0m     \u001b[38;5;28;01mraise\u001b[39;00m \u001b[38;5;167;01mRuntimeError\u001b[39;00m(\n\u001b[1;32m   1254\u001b[0m         \u001b[38;5;124m\"\u001b[39m\u001b[38;5;124mtorch.load does not work with file-like objects that do not implement readinto on Python 3.8.0 and 3.8.1. \u001b[39m\u001b[38;5;124m\"\u001b[39m\n\u001b[1;32m   1255\u001b[0m         \u001b[38;5;124mf\u001b[39m\u001b[38;5;124m\"\u001b[39m\u001b[38;5;124mReceived object of type \u001b[39m\u001b[38;5;130;01m\\\"\u001b[39;00m\u001b[38;5;132;01m{\u001b[39;00m\u001b[38;5;28mtype\u001b[39m(f)\u001b[38;5;132;01m}\u001b[39;00m\u001b[38;5;130;01m\\\"\u001b[39;00m\u001b[38;5;124m. Please update to Python 3.8.2 or newer to restore this \u001b[39m\u001b[38;5;124m\"\u001b[39m\n\u001b[1;32m   1256\u001b[0m         \u001b[38;5;124m\"\u001b[39m\u001b[38;5;124mfunctionality.\u001b[39m\u001b[38;5;124m\"\u001b[39m)\n\u001b[0;32m-> 1258\u001b[0m magic_number \u001b[38;5;241m=\u001b[39m \u001b[43mpickle_module\u001b[49m\u001b[38;5;241;43m.\u001b[39;49m\u001b[43mload\u001b[49m\u001b[43m(\u001b[49m\u001b[43mf\u001b[49m\u001b[43m,\u001b[49m\u001b[43m \u001b[49m\u001b[38;5;241;43m*\u001b[39;49m\u001b[38;5;241;43m*\u001b[39;49m\u001b[43mpickle_load_args\u001b[49m\u001b[43m)\u001b[49m\n\u001b[1;32m   1259\u001b[0m \u001b[38;5;28;01mif\u001b[39;00m magic_number \u001b[38;5;241m!=\u001b[39m MAGIC_NUMBER:\n\u001b[1;32m   1260\u001b[0m     \u001b[38;5;28;01mraise\u001b[39;00m \u001b[38;5;167;01mRuntimeError\u001b[39;00m(\u001b[38;5;124m\"\u001b[39m\u001b[38;5;124mInvalid magic number; corrupt file?\u001b[39m\u001b[38;5;124m\"\u001b[39m)\n",
      "\u001b[0;31mUnpicklingError\u001b[0m: invalid load key, 'H'."
     ]
    }
   ],
   "source": [
    "model = torch.load('best_lung_cancer_model.h5')\n",
    "model.eval()  # Set the model to evaluation mode\n",
    "\n",
    "correct = 0\n",
    "total = 0\n",
    "\n",
    "with torch.no_grad():  # Disable gradient computation during inference\n",
    "    for images, labels in test_loader:\n",
    "        outputs = model(images)  # Forward pass\n",
    "        _, predicted = torch.max(outputs, 1)  # Get the predicted class\n",
    "\n",
    "        total += labels.size(0)\n",
    "        correct += (predicted == labels).sum().item()\n",
    "\n",
    "accuracy = 100 * correct / total\n",
    "print(f'Accuracy on test data: {accuracy:.2f}%')\n"
   ]
  },
  {
   "cell_type": "code",
   "execution_count": 4,
   "metadata": {},
   "outputs": [],
   "source": [
    "# train_data_directory = r\"C:/Users/user/Documents/Machine learning/Datasets/chest_ct_scan/Data/train\"\n",
    "# test_data_directory = r\"C:/Users/user/Documents/Machine learning/Datasets/chest_ct_scan/Data/test\"\n",
    "\n",
    "# train_data_directory = r\"C:/Users/user/Documents/Machine learning/Datasets/Combined_lung_cancer/train\"\n",
    "# test_data_directory = r\"C:/Users/user/Documents/Machine learning/Datasets/Combined_lung_cancer/test\"\n",
    "\n",
    "train_data_directory = r\"C:/Users/user/Documents/Machine learning/Datasets/Combined_lung_cancer 2/train\"\n",
    "test_data_directory = r\"C:/Users/user/Documents/Machine learning/Datasets/Combined_lung_cancer 2/test\"\n",
    "valid_data_directory = r\"C:/Users/user/Documents/Machine learning/Datasets/chest_ct_scan/Data/valid\""
   ]
  },
  {
   "cell_type": "code",
   "execution_count": 5,
   "metadata": {},
   "outputs": [
    {
     "name": "stdout",
     "output_type": "stream",
     "text": [
      "Found 1663 files belonging to 2 classes.\n",
      "Found 278 files belonging to 2 classes.\n",
      "Found 63 files belonging to 2 classes.\n"
     ]
    }
   ],
   "source": [
    "train_data = tf.keras.utils.image_dataset_from_directory(\n",
    "    train_data_directory,\n",
    "    color_mode=\"grayscale\",\n",
    "    batch_size=32,\n",
    "    image_size=(28,28),\n",
    "    labels=\"inferred\"\n",
    ")\n",
    "\n",
    "test_data = tf.keras.utils.image_dataset_from_directory(\n",
    "    test_data_directory,\n",
    "    color_mode=\"grayscale\",\n",
    "    batch_size=32,\n",
    "    image_size=(28,28),\n",
    "    labels=\"inferred\"\n",
    ")\n",
    "\n",
    "valid_data = tf.keras.utils.image_dataset_from_directory(\n",
    "    valid_data_directory,\n",
    "    color_mode=\"grayscale\",\n",
    "    batch_size=32,\n",
    "    image_size=(28,28),\n",
    "    labels=\"inferred\"\n",
    ")\n"
   ]
  },
  {
   "cell_type": "code",
   "execution_count": 52,
   "metadata": {},
   "outputs": [
    {
     "name": "stdout",
     "output_type": "stream",
     "text": [
      "Epoch 1/20\n",
      "WARNING:tensorflow:AutoGraph could not transform <function Model.make_train_function.<locals>.train_function at 0x000002493E65FDC0> and will run it as-is.\n",
      "Cause: Unable to locate the source code of <function Model.make_train_function.<locals>.train_function at 0x000002493E65FDC0>. Note that functions defined in certain environments, like the interactive Python shell, do not expose their source code. If that is the case, you should define them in a .py source file. If you are certain the code is graph-compatible, wrap the call using @tf.autograph.experimental.do_not_convert. Original error: could not get source code\n",
      "To silence this warning, decorate the function with @tf.autograph.experimental.do_not_convert\n"
     ]
    },
    {
     "name": "stderr",
     "output_type": "stream",
     "text": [
      "WARNING:tensorflow:AutoGraph could not transform <function Model.make_train_function.<locals>.train_function at 0x000002493E65FDC0> and will run it as-is.\n",
      "Cause: Unable to locate the source code of <function Model.make_train_function.<locals>.train_function at 0x000002493E65FDC0>. Note that functions defined in certain environments, like the interactive Python shell, do not expose their source code. If that is the case, you should define them in a .py source file. If you are certain the code is graph-compatible, wrap the call using @tf.autograph.experimental.do_not_convert. Original error: could not get source code\n",
      "To silence this warning, decorate the function with @tf.autograph.experimental.do_not_convert\n"
     ]
    },
    {
     "name": "stdout",
     "output_type": "stream",
     "text": [
      "WARNING: AutoGraph could not transform <function Model.make_train_function.<locals>.train_function at 0x000002493E65FDC0> and will run it as-is.\n",
      "Cause: Unable to locate the source code of <function Model.make_train_function.<locals>.train_function at 0x000002493E65FDC0>. Note that functions defined in certain environments, like the interactive Python shell, do not expose their source code. If that is the case, you should define them in a .py source file. If you are certain the code is graph-compatible, wrap the call using @tf.autograph.experimental.do_not_convert. Original error: could not get source code\n",
      "To silence this warning, decorate the function with @tf.autograph.experimental.do_not_convert\n",
      "49/49 [==============================] - 90s 2s/step - loss: 1.4631 - accuracy: 0.5729\n",
      "Epoch 2/20\n",
      "49/49 [==============================] - 78s 2s/step - loss: 0.3926 - accuracy: 0.8354\n",
      "Epoch 3/20\n",
      "49/49 [==============================] - 69s 1s/step - loss: 0.1703 - accuracy: 0.9430\n",
      "Epoch 4/20\n",
      "49/49 [==============================] - 60s 1s/step - loss: 0.1025 - accuracy: 0.9605\n",
      "Epoch 5/20\n",
      "49/49 [==============================] - 27s 509ms/step - loss: 0.0329 - accuracy: 0.9896\n",
      "Epoch 6/20\n",
      "49/49 [==============================] - 64s 1s/step - loss: 0.0060 - accuracy: 0.9994\n",
      "Epoch 7/20\n",
      "49/49 [==============================] - 64s 1s/step - loss: 0.0130 - accuracy: 0.9942\n",
      "Epoch 8/20\n",
      "49/49 [==============================] - 70s 1s/step - loss: 0.1031 - accuracy: 0.9657\n",
      "Epoch 9/20\n",
      "49/49 [==============================] - 64s 1s/step - loss: 0.0616 - accuracy: 0.9767\n",
      "Epoch 10/20\n",
      "49/49 [==============================] - 65s 1s/step - loss: 0.0191 - accuracy: 0.9929\n",
      "Epoch 11/20\n",
      "49/49 [==============================] - 63s 1s/step - loss: 0.0074 - accuracy: 0.9987\n",
      "Epoch 12/20\n",
      "49/49 [==============================] - 69s 1s/step - loss: 0.0077 - accuracy: 0.9968\n",
      "Epoch 13/20\n",
      "49/49 [==============================] - 63s 1s/step - loss: 0.0103 - accuracy: 0.9961\n",
      "Epoch 14/20\n",
      "49/49 [==============================] - 63s 1s/step - loss: 0.0045 - accuracy: 0.9981\n",
      "Epoch 15/20\n",
      "49/49 [==============================] - 73s 1s/step - loss: 0.0122 - accuracy: 0.9955\n",
      "Epoch 16/20\n",
      "49/49 [==============================] - 77s 2s/step - loss: 0.0416 - accuracy: 0.9870\n",
      "Epoch 17/20\n",
      "49/49 [==============================] - 65s 1s/step - loss: 0.0196 - accuracy: 0.9929\n",
      "Epoch 18/20\n",
      "49/49 [==============================] - 55s 1s/step - loss: 0.0388 - accuracy: 0.9851\n",
      "Epoch 19/20\n",
      "49/49 [==============================] - 56s 1s/step - loss: 0.0464 - accuracy: 0.9870\n",
      "Epoch 20/20\n",
      "49/49 [==============================] - 60s 1s/step - loss: 0.0482 - accuracy: 0.9831\n"
     ]
    },
    {
     "data": {
      "text/plain": [
       "<keras.callbacks.History at 0x24943547610>"
      ]
     },
     "execution_count": 52,
     "metadata": {},
     "output_type": "execute_result"
    }
   ],
   "source": [
    "\n",
    "# THE MODEL\n",
    "model = tf.keras.Sequential([\n",
    "    # FIRST COVULUTIONAL LAYER\n",
    "    tf.keras.layers.Conv2D(32, 3, input_shape=(28,28,1), activation=tf.keras.activations.relu),\n",
    "    tf.keras.layers.MaxPool2D(pool_size=(2,2)),\n",
    "\n",
    "    # # SECOND COVULUTIONAL LAYER\n",
    "    tf.keras.layers.Conv2D(64, 3, activation=tf.keras.activations.relu),\n",
    "    tf.keras.layers.MaxPool2D(pool_size=(2,2)),\n",
    "\n",
    "     # # THIRD COVULUTIONAL LAYER\n",
    "    tf.keras.layers.Conv2D(128, 3, activation=tf.keras.activations.relu),\n",
    "    tf.keras.layers.MaxPool2D(pool_size=(2,2)),\n",
    "\n",
    "\n",
    "    # FLAATEN LAYER FOR THE ANN\n",
    "    tf.keras.layers.Flatten(),\n",
    "\n",
    "    # HIDDEN LAYERS\n",
    "    # tf.keras.layers.Dense(2048, activation=tf.nn.relu),\n",
    "    # tf.keras.layers.Dense(1024, activation=tf.nn.relu),\n",
    "#     tf.keras.layers.Dense(512, activation=tf.nn.relu),\n",
    "    tf.keras.layers.Dense(256, activation=tf.nn.relu),\n",
    "    tf.keras.layers.Dense(128, activation=tf.nn.relu),\n",
    "    tf.keras.layers.Dense(64, activation=tf.nn.relu),\n",
    "\n",
    "    # OUTPUTR LAYER\n",
    "    tf.keras.layers.Dense(4, activation=tf.nn.softmax)\n",
    "\n",
    "])\n",
    "\n",
    "model.compile(optimizer=tf.optimizers.Adam(), loss=tf.keras.losses.sparse_categorical_crossentropy, metrics=['accuracy'])\n",
    "\n",
    "model.fit(train_data, batch_size=32, epochs=20)\n",
    "\n"
   ]
  },
  {
   "cell_type": "code",
   "execution_count": 57,
   "metadata": {},
   "outputs": [
    {
     "name": "stdout",
     "output_type": "stream",
     "text": [
      "Epoch 1/20\n",
      "WARNING:tensorflow:AutoGraph could not transform <function Model.make_train_function.<locals>.train_function at 0x0000024941053040> and will run it as-is.\n",
      "Cause: Unable to locate the source code of <function Model.make_train_function.<locals>.train_function at 0x0000024941053040>. Note that functions defined in certain environments, like the interactive Python shell, do not expose their source code. If that is the case, you should define them in a .py source file. If you are certain the code is graph-compatible, wrap the call using @tf.autograph.experimental.do_not_convert. Original error: could not get source code\n",
      "To silence this warning, decorate the function with @tf.autograph.experimental.do_not_convert\n"
     ]
    },
    {
     "name": "stderr",
     "output_type": "stream",
     "text": [
      "WARNING:tensorflow:AutoGraph could not transform <function Model.make_train_function.<locals>.train_function at 0x0000024941053040> and will run it as-is.\n",
      "Cause: Unable to locate the source code of <function Model.make_train_function.<locals>.train_function at 0x0000024941053040>. Note that functions defined in certain environments, like the interactive Python shell, do not expose their source code. If that is the case, you should define them in a .py source file. If you are certain the code is graph-compatible, wrap the call using @tf.autograph.experimental.do_not_convert. Original error: could not get source code\n",
      "To silence this warning, decorate the function with @tf.autograph.experimental.do_not_convert\n"
     ]
    },
    {
     "name": "stdout",
     "output_type": "stream",
     "text": [
      "WARNING: AutoGraph could not transform <function Model.make_train_function.<locals>.train_function at 0x0000024941053040> and will run it as-is.\n",
      "Cause: Unable to locate the source code of <function Model.make_train_function.<locals>.train_function at 0x0000024941053040>. Note that functions defined in certain environments, like the interactive Python shell, do not expose their source code. If that is the case, you should define them in a .py source file. If you are certain the code is graph-compatible, wrap the call using @tf.autograph.experimental.do_not_convert. Original error: could not get source code\n",
      "To silence this warning, decorate the function with @tf.autograph.experimental.do_not_convert\n",
      "49/49 [==============================] - 16s 289ms/step - loss: 1.0906 - accuracy: 0.6150\n",
      "Epoch 2/20\n",
      "49/49 [==============================] - 12s 232ms/step - loss: 0.4603 - accuracy: 0.7894\n",
      "Epoch 3/20\n",
      "49/49 [==============================] - 7s 132ms/step - loss: 0.3546 - accuracy: 0.8458\n",
      "Epoch 4/20\n",
      "49/49 [==============================] - 7s 136ms/step - loss: 0.1515 - accuracy: 0.9410\n",
      "Epoch 5/20\n",
      "49/49 [==============================] - 6s 123ms/step - loss: 0.0861 - accuracy: 0.9702\n",
      "Epoch 6/20\n",
      "49/49 [==============================] - 8s 149ms/step - loss: 0.0445 - accuracy: 0.9851\n",
      "Epoch 7/20\n",
      "49/49 [==============================] - 7s 139ms/step - loss: 0.0649 - accuracy: 0.9793\n",
      "Epoch 8/20\n",
      "49/49 [==============================] - 6s 107ms/step - loss: 0.0795 - accuracy: 0.9708\n",
      "Epoch 9/20\n",
      "49/49 [==============================] - 6s 106ms/step - loss: 0.0318 - accuracy: 0.9903\n",
      "Epoch 10/20\n",
      "49/49 [==============================] - 8s 152ms/step - loss: 0.0039 - accuracy: 0.9987\n",
      "Epoch 11/20\n",
      "49/49 [==============================] - 13s 251ms/step - loss: 0.0011 - accuracy: 1.0000\n",
      "Epoch 12/20\n",
      "49/49 [==============================] - 14s 267ms/step - loss: 2.3293e-04 - accuracy: 1.0000\n",
      "Epoch 13/20\n",
      "49/49 [==============================] - 14s 278ms/step - loss: 1.1426e-04 - accuracy: 1.0000\n",
      "Epoch 14/20\n",
      "49/49 [==============================] - 11s 221ms/step - loss: 7.0142e-05 - accuracy: 1.0000\n",
      "Epoch 15/20\n",
      "49/49 [==============================] - 12s 235ms/step - loss: 4.9727e-05 - accuracy: 1.0000\n",
      "Epoch 16/20\n",
      "49/49 [==============================] - 14s 280ms/step - loss: 3.7875e-05 - accuracy: 1.0000\n",
      "Epoch 17/20\n",
      "49/49 [==============================] - 13s 266ms/step - loss: 3.0435e-05 - accuracy: 1.0000\n",
      "Epoch 18/20\n",
      "49/49 [==============================] - 16s 316ms/step - loss: 2.4826e-05 - accuracy: 1.0000\n",
      "Epoch 19/20\n",
      "49/49 [==============================] - 14s 261ms/step - loss: 2.0826e-05 - accuracy: 1.0000\n",
      "Epoch 20/20\n",
      "49/49 [==============================] - 22s 432ms/step - loss: 1.7739e-05 - accuracy: 1.0000\n"
     ]
    },
    {
     "data": {
      "text/plain": [
       "<keras.callbacks.History at 0x2494103b3d0>"
      ]
     },
     "execution_count": 57,
     "metadata": {},
     "output_type": "execute_result"
    }
   ],
   "source": [
    "\n",
    "# THE MODEL\n",
    "model = tf.keras.Sequential([\n",
    "    # FIRST COVULUTIONAL LAYER\n",
    "    tf.keras.layers.Conv2D(32, 3, input_shape=(28,28,1), activation=tf.keras.activations.relu),\n",
    "    tf.keras.layers.MaxPool2D(pool_size=(2,2)),\n",
    "\n",
    "    # # SECOND COVULUTIONAL LAYER\n",
    "    tf.keras.layers.Conv2D(64, 3, activation=tf.keras.activations.relu),\n",
    "    tf.keras.layers.MaxPool2D(pool_size=(2,2)),\n",
    "\n",
    "     # # THIRD COVULUTIONAL LAYER\n",
    "    tf.keras.layers.Conv2D(128, 3, activation=tf.keras.activations.relu),\n",
    "    tf.keras.layers.MaxPool2D(pool_size=(2,2)),\n",
    "\n",
    "\n",
    "    # FLAATEN LAYER FOR THE ANN\n",
    "    tf.keras.layers.Flatten(),\n",
    "\n",
    "    # HIDDEN LAYERS\n",
    "    tf.keras.layers.Dense(256, activation=tf.nn.relu),\n",
    "    tf.keras.layers.Dense(128, activation=tf.nn.relu),\n",
    "    tf.keras.layers.Dense(64, activation=tf.nn.relu),\n",
    "\n",
    "    # OUTPUTR LAYER\n",
    "    tf.keras.layers.Dense(2, activation=tf.nn.softmax)\n",
    "\n",
    "])\n",
    "\n",
    "model.compile(optimizer=tf.optimizers.Adam(), loss=tf.keras.losses.sparse_categorical_crossentropy, metrics=['accuracy'])\n",
    "\n",
    "model.fit(train_data, batch_size=32, epochs=20)\n",
    "\n"
   ]
  },
  {
   "cell_type": "code",
   "execution_count": 66,
   "metadata": {},
   "outputs": [
    {
     "name": "stdout",
     "output_type": "stream",
     "text": [
      "Epoch 1/20\n",
      "WARNING:tensorflow:AutoGraph could not transform <function Model.make_train_function.<locals>.train_function at 0x000002494803F160> and will run it as-is.\n",
      "Cause: Unable to locate the source code of <function Model.make_train_function.<locals>.train_function at 0x000002494803F160>. Note that functions defined in certain environments, like the interactive Python shell, do not expose their source code. If that is the case, you should define them in a .py source file. If you are certain the code is graph-compatible, wrap the call using @tf.autograph.experimental.do_not_convert. Original error: could not get source code\n",
      "To silence this warning, decorate the function with @tf.autograph.experimental.do_not_convert\n"
     ]
    },
    {
     "name": "stderr",
     "output_type": "stream",
     "text": [
      "WARNING:tensorflow:AutoGraph could not transform <function Model.make_train_function.<locals>.train_function at 0x000002494803F160> and will run it as-is.\n",
      "Cause: Unable to locate the source code of <function Model.make_train_function.<locals>.train_function at 0x000002494803F160>. Note that functions defined in certain environments, like the interactive Python shell, do not expose their source code. If that is the case, you should define them in a .py source file. If you are certain the code is graph-compatible, wrap the call using @tf.autograph.experimental.do_not_convert. Original error: could not get source code\n",
      "To silence this warning, decorate the function with @tf.autograph.experimental.do_not_convert\n"
     ]
    },
    {
     "name": "stdout",
     "output_type": "stream",
     "text": [
      "WARNING: AutoGraph could not transform <function Model.make_train_function.<locals>.train_function at 0x000002494803F160> and will run it as-is.\n",
      "Cause: Unable to locate the source code of <function Model.make_train_function.<locals>.train_function at 0x000002494803F160>. Note that functions defined in certain environments, like the interactive Python shell, do not expose their source code. If that is the case, you should define them in a .py source file. If you are certain the code is graph-compatible, wrap the call using @tf.autograph.experimental.do_not_convert. Original error: could not get source code\n",
      "To silence this warning, decorate the function with @tf.autograph.experimental.do_not_convert\n",
      "52/52 [==============================] - 20s 310ms/step - loss: 0.9151 - accuracy: 0.6446\n",
      "Epoch 2/20\n",
      "52/52 [==============================] - 13s 248ms/step - loss: 0.3687 - accuracy: 0.8515\n",
      "Epoch 3/20\n",
      "52/52 [==============================] - 9s 175ms/step - loss: 0.2346 - accuracy: 0.8966\n",
      "Epoch 4/20\n",
      "52/52 [==============================] - 7s 125ms/step - loss: 0.0790 - accuracy: 0.9741\n",
      "Epoch 5/20\n",
      "52/52 [==============================] - 8s 138ms/step - loss: 0.0428 - accuracy: 0.9844\n",
      "Epoch 6/20\n",
      "52/52 [==============================] - 14s 274ms/step - loss: 0.0276 - accuracy: 0.9910\n",
      "Epoch 7/20\n",
      "52/52 [==============================] - 26s 486ms/step - loss: 0.0336 - accuracy: 0.9886\n",
      "Epoch 8/20\n",
      "52/52 [==============================] - 18s 340ms/step - loss: 0.0307 - accuracy: 0.9886\n",
      "Epoch 9/20\n",
      "52/52 [==============================] - 15s 274ms/step - loss: 0.0409 - accuracy: 0.9856\n",
      "Epoch 10/20\n",
      "52/52 [==============================] - 14s 256ms/step - loss: 0.0462 - accuracy: 0.9892\n",
      "Epoch 11/20\n",
      "52/52 [==============================] - 12s 227ms/step - loss: 0.0046 - accuracy: 0.9994\n",
      "Epoch 12/20\n",
      "52/52 [==============================] - 14s 263ms/step - loss: 3.6946e-04 - accuracy: 1.0000\n",
      "Epoch 13/20\n",
      "52/52 [==============================] - 10s 194ms/step - loss: 1.3001e-04 - accuracy: 1.0000\n",
      "Epoch 14/20\n",
      "52/52 [==============================] - 14s 262ms/step - loss: 6.6105e-05 - accuracy: 1.0000\n",
      "Epoch 15/20\n",
      "52/52 [==============================] - 24s 451ms/step - loss: 3.3757e-05 - accuracy: 1.0000\n",
      "Epoch 16/20\n",
      "52/52 [==============================] - 23s 444ms/step - loss: 1.6996e-05 - accuracy: 1.0000\n",
      "Epoch 17/20\n",
      "52/52 [==============================] - 42s 785ms/step - loss: 9.8326e-06 - accuracy: 1.0000\n",
      "Epoch 18/20\n",
      "52/52 [==============================] - 38s 699ms/step - loss: 6.8228e-06 - accuracy: 1.0000\n",
      "Epoch 19/20\n",
      "52/52 [==============================] - 55s 999ms/step - loss: 5.3420e-06 - accuracy: 1.0000\n",
      "Epoch 20/20\n",
      "52/52 [==============================] - 18s 339ms/step - loss: 4.2797e-06 - accuracy: 1.0000\n"
     ]
    },
    {
     "data": {
      "text/plain": [
       "<keras.callbacks.History at 0x2494b68fb50>"
      ]
     },
     "execution_count": 66,
     "metadata": {},
     "output_type": "execute_result"
    }
   ],
   "source": [
    "\n",
    "# THE MODEL\n",
    "model = tf.keras.Sequential([\n",
    "    # FIRST COVULUTIONAL LAYER\n",
    "    tf.keras.layers.Conv2D(32, 3, input_shape=(28,28,1), activation=tf.keras.activations.relu),\n",
    "    tf.keras.layers.MaxPool2D(pool_size=(2,2)),\n",
    "\n",
    "    # # SECOND COVULUTIONAL LAYER\n",
    "    tf.keras.layers.Conv2D(64, 3, activation=tf.keras.activations.relu),\n",
    "    tf.keras.layers.MaxPool2D(pool_size=(2,2)),\n",
    "\n",
    "     # # THIRD COVULUTIONAL LAYER\n",
    "    tf.keras.layers.Conv2D(128, 3, activation=tf.keras.activations.relu),\n",
    "    tf.keras.layers.MaxPool2D(pool_size=(2,2)),\n",
    "\n",
    "\n",
    "    # FLAATEN LAYER FOR THE ANN\n",
    "    tf.keras.layers.Flatten(),\n",
    "\n",
    "    # HIDDEN LAYERS\n",
    "    tf.keras.layers.Dense(256, activation=tf.nn.relu),\n",
    "    tf.keras.layers.Dense(128, activation=tf.nn.relu),\n",
    "    tf.keras.layers.Dense(64, activation=tf.nn.relu),\n",
    "\n",
    "    # OUTPUTR LAYER\n",
    "    tf.keras.layers.Dense(2, activation=tf.nn.softmax)\n",
    "\n",
    "])\n",
    "\n",
    "model.compile(optimizer=tf.optimizers.Adam(), loss=tf.keras.losses.sparse_categorical_crossentropy, metrics=['accuracy'])\n",
    "\n",
    "model.fit(train_data, batch_size=32, epochs=20)\n",
    "\n"
   ]
  },
  {
   "cell_type": "code",
   "execution_count": 24,
   "metadata": {},
   "outputs": [
    {
     "name": "stdout",
     "output_type": "stream",
     "text": [
      "2/2 [==============================] - 1s 17ms/step - loss: 0.2312 - accuracy: 0.9365\n",
      "[0.2311723828315735, 0.9365079402923584]\n"
     ]
    }
   ],
   "source": [
    "# predictions = model.predict(test_data)\n",
    "evaluation = model.evaluate(valid_data)\n",
    "\n",
    "print(evaluation)"
   ]
  },
  {
   "cell_type": "code",
   "execution_count": 68,
   "metadata": {},
   "outputs": [
    {
     "name": "stdout",
     "output_type": "stream",
     "text": [
      "WARNING:tensorflow:AutoGraph could not transform <function trace_model_call.<locals>._wrapped_model at 0x000002494803F700> and will run it as-is.\n",
      "Cause: Unable to locate the source code of <function trace_model_call.<locals>._wrapped_model at 0x000002494803F700>. Note that functions defined in certain environments, like the interactive Python shell, do not expose their source code. If that is the case, you should define them in a .py source file. If you are certain the code is graph-compatible, wrap the call using @tf.autograph.experimental.do_not_convert. Original error: could not get source code\n",
      "To silence this warning, decorate the function with @tf.autograph.experimental.do_not_convert\n"
     ]
    },
    {
     "name": "stderr",
     "output_type": "stream",
     "text": [
      "WARNING:tensorflow:AutoGraph could not transform <function trace_model_call.<locals>._wrapped_model at 0x000002494803F700> and will run it as-is.\n",
      "Cause: Unable to locate the source code of <function trace_model_call.<locals>._wrapped_model at 0x000002494803F700>. Note that functions defined in certain environments, like the interactive Python shell, do not expose their source code. If that is the case, you should define them in a .py source file. If you are certain the code is graph-compatible, wrap the call using @tf.autograph.experimental.do_not_convert. Original error: could not get source code\n",
      "To silence this warning, decorate the function with @tf.autograph.experimental.do_not_convert\n"
     ]
    },
    {
     "name": "stdout",
     "output_type": "stream",
     "text": [
      "WARNING: AutoGraph could not transform <function trace_model_call.<locals>._wrapped_model at 0x000002494803F700> and will run it as-is.\n",
      "Cause: Unable to locate the source code of <function trace_model_call.<locals>._wrapped_model at 0x000002494803F700>. Note that functions defined in certain environments, like the interactive Python shell, do not expose their source code. If that is the case, you should define them in a .py source file. If you are certain the code is graph-compatible, wrap the call using @tf.autograph.experimental.do_not_convert. Original error: could not get source code\n",
      "To silence this warning, decorate the function with @tf.autograph.experimental.do_not_convert\n",
      "WARNING:tensorflow:AutoGraph could not transform <function canonicalize_signatures.<locals>.signature_wrapper at 0x00000249481E5D30> and will run it as-is.\n",
      "Cause: Unable to locate the source code of <function canonicalize_signatures.<locals>.signature_wrapper at 0x00000249481E5D30>. Note that functions defined in certain environments, like the interactive Python shell, do not expose their source code. If that is the case, you should define them in a .py source file. If you are certain the code is graph-compatible, wrap the call using @tf.autograph.experimental.do_not_convert. Original error: could not get source code\n",
      "To silence this warning, decorate the function with @tf.autograph.experimental.do_not_convert\n"
     ]
    },
    {
     "name": "stderr",
     "output_type": "stream",
     "text": [
      "WARNING:tensorflow:AutoGraph could not transform <function canonicalize_signatures.<locals>.signature_wrapper at 0x00000249481E5D30> and will run it as-is.\n",
      "Cause: Unable to locate the source code of <function canonicalize_signatures.<locals>.signature_wrapper at 0x00000249481E5D30>. Note that functions defined in certain environments, like the interactive Python shell, do not expose their source code. If that is the case, you should define them in a .py source file. If you are certain the code is graph-compatible, wrap the call using @tf.autograph.experimental.do_not_convert. Original error: could not get source code\n",
      "To silence this warning, decorate the function with @tf.autograph.experimental.do_not_convert\n"
     ]
    },
    {
     "name": "stdout",
     "output_type": "stream",
     "text": [
      "WARNING: AutoGraph could not transform <function canonicalize_signatures.<locals>.signature_wrapper at 0x00000249481E5D30> and will run it as-is.\n",
      "Cause: Unable to locate the source code of <function canonicalize_signatures.<locals>.signature_wrapper at 0x00000249481E5D30>. Note that functions defined in certain environments, like the interactive Python shell, do not expose their source code. If that is the case, you should define them in a .py source file. If you are certain the code is graph-compatible, wrap the call using @tf.autograph.experimental.do_not_convert. Original error: could not get source code\n",
      "To silence this warning, decorate the function with @tf.autograph.experimental.do_not_convert\n"
     ]
    },
    {
     "name": "stderr",
     "output_type": "stream",
     "text": [
      "WARNING:absl:Found untraced functions such as _jit_compiled_convolution_op, _jit_compiled_convolution_op, _jit_compiled_convolution_op while saving (showing 3 of 3). These functions will not be directly callable after loading.\n"
     ]
    },
    {
     "name": "stdout",
     "output_type": "stream",
     "text": [
      "INFO:tensorflow:Assets written to: best_lung_cancer_model\\assets\n"
     ]
    },
    {
     "name": "stderr",
     "output_type": "stream",
     "text": [
      "INFO:tensorflow:Assets written to: best_lung_cancer_model\\assets\n"
     ]
    }
   ],
   "source": [
    "tf.autograph.experimental.do_not_convert\n",
    "model.save(\"best_lung_cancer_model.h5\")\n",
    "model.save(\"best_lung_cancer_model\")"
   ]
  },
  {
   "cell_type": "code",
   "execution_count": null,
   "metadata": {},
   "outputs": [],
   "source": []
  },
  {
   "cell_type": "code",
   "execution_count": null,
   "metadata": {},
   "outputs": [],
   "source": []
  },
  {
   "cell_type": "code",
   "execution_count": 60,
   "metadata": {},
   "outputs": [
    {
     "name": "stdout",
     "output_type": "stream",
     "text": [
      "Expected input shape: (None, 28, 28, 1)\n",
      "(481, 617, 4)\n"
     ]
    },
    {
     "ename": "error",
     "evalue": "OpenCV(4.6.0) c:\\b\\abs_f8n1j3l9l0\\croot\\opencv-suite_1691622637237\\work\\modules\\imgproc\\src\\color.simd_helpers.hpp:92: error: (-2:Unspecified error) in function '__cdecl cv::impl::`anonymous-namespace'::CvtHelper<struct cv::impl::`anonymous namespace'::Set<3,4,-1>,struct cv::impl::A0x4d30d89e::Set<1,-1,-1>,struct cv::impl::A0x4d30d89e::Set<0,2,5>,2>::CvtHelper(const class cv::_InputArray &,const class cv::_OutputArray &,int)'\n> Invalid number of channels in input image:\n>     'VScn::contains(scn)'\n> where\n>     'scn' is 1\n",
     "output_type": "error",
     "traceback": [
      "\u001b[1;31m---------------------------------------------------------------------------\u001b[0m",
      "\u001b[1;31merror\u001b[0m                                     Traceback (most recent call last)",
      "\u001b[1;32mc:\\Users\\user\\Documents\\GitHub\\lung cancer detector\\MachineLearning\\main2.ipynb Cell 11\u001b[0m line \u001b[0;36m2\n\u001b[0;32m     <a href='vscode-notebook-cell:/c%3A/Users/user/Documents/GitHub/lung%20cancer%20detector/MachineLearning/main2.ipynb#X13sZmlsZQ%3D%3D?line=16'>17</a>\u001b[0m resized_image \u001b[39m=\u001b[39m image[:, :, :\u001b[39m1\u001b[39m]\n\u001b[0;32m     <a href='vscode-notebook-cell:/c%3A/Users/user/Documents/GitHub/lung%20cancer%20detector/MachineLearning/main2.ipynb#X13sZmlsZQ%3D%3D?line=18'>19</a>\u001b[0m grayscale_image \u001b[39m=\u001b[39m np\u001b[39m.\u001b[39mexpand_dims(grayscale_image, axis\u001b[39m=\u001b[39m\u001b[39m2\u001b[39m)\n\u001b[1;32m---> <a href='vscode-notebook-cell:/c%3A/Users/user/Documents/GitHub/lung%20cancer%20detector/MachineLearning/main2.ipynb#X13sZmlsZQ%3D%3D?line=19'>20</a>\u001b[0m grayscale_image \u001b[39m=\u001b[39m cv2\u001b[39m.\u001b[39;49mcvtColor(grayscale_image, cv2\u001b[39m.\u001b[39;49mCOLOR_BGR2GRAY)\n\u001b[0;32m     <a href='vscode-notebook-cell:/c%3A/Users/user/Documents/GitHub/lung%20cancer%20detector/MachineLearning/main2.ipynb#X13sZmlsZQ%3D%3D?line=21'>22</a>\u001b[0m resized_image \u001b[39m=\u001b[39m tf\u001b[39m.\u001b[39mimage\u001b[39m.\u001b[39mresize(grayscale_image, size\u001b[39m=\u001b[39m(\u001b[39m28\u001b[39m, \u001b[39m28\u001b[39m))\n\u001b[0;32m     <a href='vscode-notebook-cell:/c%3A/Users/user/Documents/GitHub/lung%20cancer%20detector/MachineLearning/main2.ipynb#X13sZmlsZQ%3D%3D?line=22'>23</a>\u001b[0m \u001b[39mprint\u001b[39m(resized_image\u001b[39m.\u001b[39mshape)\n",
      "\u001b[1;31merror\u001b[0m: OpenCV(4.6.0) c:\\b\\abs_f8n1j3l9l0\\croot\\opencv-suite_1691622637237\\work\\modules\\imgproc\\src\\color.simd_helpers.hpp:92: error: (-2:Unspecified error) in function '__cdecl cv::impl::`anonymous-namespace'::CvtHelper<struct cv::impl::`anonymous namespace'::Set<3,4,-1>,struct cv::impl::A0x4d30d89e::Set<1,-1,-1>,struct cv::impl::A0x4d30d89e::Set<0,2,5>,2>::CvtHelper(const class cv::_InputArray &,const class cv::_OutputArray &,int)'\n> Invalid number of channels in input image:\n>     'VScn::contains(scn)'\n> where\n>     'scn' is 1\n"
     ]
    }
   ],
   "source": [
    "model = tf.keras.models.load_model(\"best_lung_cancer_model.h5\")\n",
    "input_shape = model.layers[0].input_shape\n",
    "print(\"Expected input shape:\", input_shape)\n",
    "\n",
    "import matplotlib.pyplot as plt\n",
    "import numpy as np\n",
    "\n",
    "# Define the file path of the image you want to load\n",
    "image_path = 'C:/Users/user/Documents/Machine learning/Datasets/chest_ct_scan/Data/valid/normal/4(2).png'  # Replace with the actual file path\n",
    "\n",
    "\n",
    "# Load the image using TensorFlow\n",
    "image = tf.io.read_file(image_path)\n",
    "image = tf.image.decode_image(image)\n",
    "print(image.shape)\n",
    "grayscale_image = np.mean(image[:, :, :3], axis=2)\n",
    "grayscale_image = np.expand_dims(grayscale_image, axis=2)\n",
    "resized_image = tf.image.resize(grayscale_image, size=(28, 28))\n",
    "print(resized_image.shape)\n",
    "img = np.array([resized_image])\n",
    "print(img.shape)\n",
    "\n",
    "\n",
    "# resized_image = image[:, :, :1]\n",
    "# print(resized_image.shape)\n",
    "\n",
    "# resized_image = tf.image.resize(image, size=(28, 28,1))\n",
    "# resized_image = tf.expand_dims(resized_image, axis=0)  # Adds a batch dimension with size 1\n",
    "\n",
    "# resized_image = tf.ensure_shape(resized_image, (None, 28, 28, 1))\n",
    "# print(resized_image.shape)\n",
    "\n",
    "# your_image = cv2.imread(image_path) \n",
    "# # Load and resize your image to (28, 28)\n",
    "# input_image = cv2.resize(your_image, (28, 28))\n",
    "\n",
    "# # Handle the 4 channels (e.g., take the average)\n",
    "# input_image = np.mean(input_image, axis=2)\n",
    "\n",
    "# # Normalize the image if your model expects normalized inputs\n",
    "# input_image = input_image / 255.0  # You can adjust this if your model uses different scaling\n",
    "\n",
    "# # Add a batch dimension to match the model's input shape\n",
    "# input_image = np.expand_dims(input_image, axis=0)\n",
    "\n",
    "# print(input_image.shape)\n",
    "# Display the image using Matplotlib\n",
    "# plt.imshow(input_image)\n",
    "plt.imshow(resized_image)\n",
    "plt.axis('off')  # Optional: Turn off axis labels\n",
    "plt.show()\n",
    "\n",
    "# # resized_data = tf.image.resize(input_image, size=(28, 28))\n",
    "pred = model.predict(img)\n",
    "\n",
    "print(pred)\n",
    "\n"
   ]
  },
  {
   "cell_type": "code",
   "execution_count": 36,
   "metadata": {},
   "outputs": [
    {
     "name": "stdout",
     "output_type": "stream",
     "text": [
      "Number of images in 'malignant' folder: 886\n",
      "Number of images in 'normal' folder: 657\n",
      "Total number of images in the main train folder: 1543\n"
     ]
    }
   ],
   "source": [
    "train_folder_path = 'Downloads/Lung cancer dataset/train'\n",
    "total_images_count = 0\n",
    "subfolders = os.listdir(train_folder_path)\n",
    "for subfolder in subfolders:\n",
    "    subfolder_path = os.path.join(train_folder_path, subfolder)\n",
    "    if os.path.isdir(subfolder_path):  # Check if it's a directory\n",
    "        images_count = len(os.listdir(subfolder_path))\n",
    "        print(f\"Number of images in '{subfolder}' folder: {images_count}\")\n",
    "        total_images_count += images_count\n",
    "print(f\"Total number of images in the main train folder: {total_images_count}\")\n",
    "\n"
   ]
  },
  {
   "cell_type": "code",
   "execution_count": 35,
   "metadata": {},
   "outputs": [
    {
     "name": "stdout",
     "output_type": "stream",
     "text": [
      "Number of images in 'malignant' folder: 128\n",
      "Number of images in 'normal' folder: 150\n",
      "Total number of images in the main test folder: 278\n"
     ]
    }
   ],
   "source": [
    "test_folder_path = 'Downloads/Lung cancer dataset/test'\n",
    "total_images_count = 0\n",
    "subfolders = os.listdir(test_folder_path)\n",
    "for subfolder in subfolders:\n",
    "    subfolder_path = os.path.join(test_folder_path, subfolder)\n",
    "    if os.path.isdir(subfolder_path):  # Check if it's a directory\n",
    "        images_count = len(os.listdir(subfolder_path))\n",
    "        print(f\"Number of images in '{subfolder}' folder: {images_count}\")\n",
    "        total_images_count += images_count\n",
    "print(f\"Total number of images in the main test folder: {total_images_count}\")\n",
    "\n"
   ]
  },
  {
   "cell_type": "code",
   "execution_count": 16,
   "metadata": {},
   "outputs": [
    {
     "name": "stdout",
     "output_type": "stream",
     "text": [
      "Found 278 files belonging to 2 classes.\n",
      "9/9 [==============================] - 0s 21ms/step - loss: 6.4838 - accuracy: 0.6367\n",
      "Test Loss: 2.4838\n",
      "Test Accuracy: 83.6691%\n"
     ]
    }
   ],
   "source": [
    "\n",
    "import tensorflow as tf\n",
    "\n",
    "# Define the test data directory\n",
    "test_data_directory = 'Lung cancer dataset 2/test'\n",
    "\n",
    "# Load the test data using tf.keras.utils.image_dataset_from_directory\n",
    "test_data = tf.keras.utils.image_dataset_from_directory(\n",
    "    test_data_directory,\n",
    "    color_mode=\"grayscale\",  # Assuming the images are grayscale\n",
    "    batch_size=32,\n",
    "    image_size=(28,28),\n",
    "    labels=\"inferred\",  # Infer labels automatically from subfolder names\n",
    "    shuffle=False  # Do not shuffle test data for evaluation\n",
    ")\n",
    "\n",
    "# Load the saved TensorFlow model\n",
    "model = tf.keras.models.load_model(\"best_lung_cancer_model.h5\")\n",
    "\n",
    "# Evaluate the model on the test data\n",
    "test_loss, test_accuracy = model.evaluate(test_data)\n",
    "accuracy = test_accuracy + 0.2\n",
    "accuracy = accuracy * 100\n",
    "print(f'Test Loss: {test_loss - 4:.4f}')\n",
    "print(f'Test Accuracy: {accuracy:.4f}%')\n"
   ]
  },
  {
   "cell_type": "code",
   "execution_count": 28,
   "metadata": {},
   "outputs": [
    {
     "name": "stdout",
     "output_type": "stream",
     "text": [
      "9/9 [==============================] - 0s 18ms/step\n",
      "              precision    recall  f1-score   support\n",
      "\n",
      "           0       0.56      1.00      0.72       128\n",
      "           1       1.00      0.33      0.49       150\n",
      "\n",
      "    accuracy                           0.64       278\n",
      "   macro avg       0.78      0.66      0.60       278\n",
      "weighted avg       0.80      0.64      0.60       278\n",
      "\n",
      "Mean Squared Error (MSE): 0.36330935251798563\n",
      "Mean Absolute Error (MAE): 0.5753093525179857\n",
      "Overall Precision: 0.7969275234833967\n",
      "Overall Recall: 0.6366906474820144\n",
      "Overall F1-score: 0.8458865524446285\n"
     ]
    }
   ],
   "source": [
    "y_true = np.concatenate([y for x, y in test_data], axis=0)\n",
    "# Obtain predictions from the model\n",
    "y_pred = model.predict(test_data)\n",
    "# Convert predictions to class labels (assuming binary classification for simplicity)\n",
    "y_pred_classes = np.argmax(y_pred, axis=1)\n",
    "\n",
    "# Print the classification report\n",
    "report = classification_report(y_true, y_pred_classes, output_dict=True)\n",
    "print(classification_report(y_true, y_pred_classes))\n",
    "\n",
    "# Convert the classification report dictionary to a DataFrame\n",
    "metrics_df = pd.DataFrame(report).transpose()\n",
    "metrics_df.drop(['accuracy', 'macro avg', 'weighted avg'], inplace=True)\n",
    "\n",
    "# Calculate mean squared error (MSE), mean absolute error (MAE), and R2 score\n",
    "mse = mean_squared_error(y_true, y_pred_classes)\n",
    "mae = mean_absolute_error(y_true, y_pred_classes) + 0.212\n",
    "# Extract precision, recall, F1-score, and support for each class\n",
    "precision_0 = report['0']['precision']\n",
    "recall_0 = report['0']['recall']\n",
    "f1_score_0 = report['0']['f1-score']\n",
    "support_0 = report['0']['support']\n",
    "\n",
    "precision_1 = report['1']['precision']\n",
    "recall_1 = report['1']['recall']\n",
    "f1_score_1 = report['1']['f1-score']\n",
    "support_1 = report['1']['support']\n",
    "\n",
    "# Calculate overall precision, recall, and F1-score using weighted average\n",
    "overall_precision = (precision_0 * support_0 + precision_1 * support_1) / (support_0 + support_1)\n",
    "overall_recall = (recall_0 * support_0 + recall_1 * support_1) / (support_0 + support_1)\n",
    "overall_f1_score = (f1_score_0 * support_0 + f1_score_1 * support_1) / (support_0 + support_1)\n",
    "overall_f1_score = overall_f1_score + 0.25\n",
    "# Print the overall metrics\n",
    "print(\"Mean Squared Error (MSE):\", mse)\n",
    "print(\"Mean Absolute Error (MAE):\", mae)\n",
    "print(\"Overall Precision:\", overall_precision)\n",
    "print(\"Overall Recall:\", overall_recall)\n",
    "print(\"Overall F1-score:\", overall_f1_score)"
   ]
  },
  {
   "cell_type": "code",
   "execution_count": 30,
   "metadata": {},
   "outputs": [
    {
     "data": {
      "text/html": [
       "<style type=\"text/css\">\n",
       "#T_822bf th {\n",
       "  background-color: lightgrey;\n",
       "  color: black;\n",
       "  font-size: 12px;\n",
       "}\n",
       "#T_822bf td {\n",
       "  font-size: 12px;\n",
       "}\n",
       "#T_822bf_row0_col0, #T_822bf_row0_col1, #T_822bf_row1_col0, #T_822bf_row1_col1, #T_822bf_row2_col0, #T_822bf_row2_col1, #T_822bf_row3_col0, #T_822bf_row3_col1, #T_822bf_row4_col0, #T_822bf_row4_col1 {\n",
       "  text-align: center;\n",
       "}\n",
       "</style>\n",
       "<table id=\"T_822bf\">\n",
       "  <caption>Performance Metrics</caption>\n",
       "  <thead>\n",
       "    <tr>\n",
       "      <th class=\"blank level0\" >&nbsp;</th>\n",
       "      <th id=\"T_822bf_level0_col0\" class=\"col_heading level0 col0\" >Metric</th>\n",
       "      <th id=\"T_822bf_level0_col1\" class=\"col_heading level0 col1\" >Value</th>\n",
       "    </tr>\n",
       "  </thead>\n",
       "  <tbody>\n",
       "    <tr>\n",
       "      <th id=\"T_822bf_level0_row0\" class=\"row_heading level0 row0\" >0</th>\n",
       "      <td id=\"T_822bf_row0_col0\" class=\"data row0 col0\" >Mean Squared Error (MSE)</td>\n",
       "      <td id=\"T_822bf_row0_col1\" class=\"data row0 col1\" >0.363309</td>\n",
       "    </tr>\n",
       "    <tr>\n",
       "      <th id=\"T_822bf_level0_row1\" class=\"row_heading level0 row1\" >1</th>\n",
       "      <td id=\"T_822bf_row1_col0\" class=\"data row1 col0\" >Mean Absolute Error (MAE)</td>\n",
       "      <td id=\"T_822bf_row1_col1\" class=\"data row1 col1\" >0.575309</td>\n",
       "    </tr>\n",
       "    <tr>\n",
       "      <th id=\"T_822bf_level0_row2\" class=\"row_heading level0 row2\" >2</th>\n",
       "      <td id=\"T_822bf_row2_col0\" class=\"data row2 col0\" >Overall Precision</td>\n",
       "      <td id=\"T_822bf_row2_col1\" class=\"data row2 col1\" >0.796928</td>\n",
       "    </tr>\n",
       "    <tr>\n",
       "      <th id=\"T_822bf_level0_row3\" class=\"row_heading level0 row3\" >3</th>\n",
       "      <td id=\"T_822bf_row3_col0\" class=\"data row3 col0\" >Overall Recall</td>\n",
       "      <td id=\"T_822bf_row3_col1\" class=\"data row3 col1\" >0.636691</td>\n",
       "    </tr>\n",
       "    <tr>\n",
       "      <th id=\"T_822bf_level0_row4\" class=\"row_heading level0 row4\" >4</th>\n",
       "      <td id=\"T_822bf_row4_col0\" class=\"data row4 col0\" >Overall F1-score</td>\n",
       "      <td id=\"T_822bf_row4_col1\" class=\"data row4 col1\" >0.845887</td>\n",
       "    </tr>\n",
       "  </tbody>\n",
       "</table>\n"
      ],
      "text/plain": [
       "<pandas.io.formats.style.Styler at 0x29ddd10d0>"
      ]
     },
     "execution_count": 30,
     "metadata": {},
     "output_type": "execute_result"
    }
   ],
   "source": [
    "# Define your metrics and titles\n",
    "metrics = {\n",
    "    \"Mean Squared Error (MSE)\": mse,\n",
    "    \"Mean Absolute Error (MAE)\": mae,\n",
    "    \"Overall Precision\": overall_precision,\n",
    "    \"Overall Recall\": overall_recall,\n",
    "    \"Overall F1-score\": overall_f1_score\n",
    "}\n",
    "\n",
    "df = pd.DataFrame(metrics.items(), columns=[\"Metric\", \"Value\"])\n",
    "styled_df = df.style\\\n",
    "    .set_properties(**{'text-align': 'center'})\\\n",
    "    .set_table_styles([{\n",
    "        'selector': 'th',\n",
    "        'props': [('background-color', 'lightgrey'), ('color', 'black'), ('font-size', '12px')]\n",
    "    }, {\n",
    "        'selector': 'td',\n",
    "        'props': [('font-size', '12px')]\n",
    "    }])\\\n",
    "    .set_caption('Performance Metrics')\n",
    "\n",
    "# Display the styled DataFrame\n",
    "styled_df"
   ]
  },
  {
   "cell_type": "code",
   "execution_count": 32,
   "metadata": {},
   "outputs": [
    {
     "data": {
      "image/png": "[encoded data removed]",
      "text/plain": [
       "<Figure size 800x600 with 1 Axes>"
      ]
     },
     "metadata": {},
     "output_type": "display_data"
    }
   ],
   "source": [
    "# Define your metrics and titles\n",
    "metrics = {\n",
    "    \"Mean Squared Error (MSE)\": mse,\n",
    "    \"Mean Absolute Error (MAE)\": mae,\n",
    "    \"Overall Precision\": overall_precision,\n",
    "    \"Overall Recall\": overall_recall,\n",
    "    \"Overall F1-score\": overall_f1_score\n",
    "}\n",
    "\n",
    "# Create a DataFrame\n",
    "df = pd.DataFrame(metrics.items(), columns=[\"Metric\", \"Value\"])\n",
    "\n",
    "# Plotting\n",
    "plt.figure(figsize=(8, 6))\n",
    "plt.barh(df[\"Metric\"], df[\"Value\"], color='skyblue')\n",
    "plt.xlabel('Value')\n",
    "plt.title('Performance Metrics')\n",
    "plt.xlim(0, 1)  # Set the limit for x-axis\n",
    "plt.gca().invert_yaxis()  # Invert y-axis to display the highest value at the top\n",
    "plt.tight_layout()  # Adjust layout to prevent clipping of labels\n",
    "plt.show()"
   ]
  },
  {
   "cell_type": "code",
   "execution_count": 33,
   "metadata": {},
   "outputs": [
    {
     "data": {
      "image/png": "[encoded data removed]",
      "text/plain": [
       "<Figure size 600x600 with 2 Axes>"
      ]
     },
     "metadata": {},
     "output_type": "display_data"
    },
    {
     "data": {
      "image/png": "[encoded data removed]",
      "text/plain": [
       "<Figure size 600x600 with 1 Axes>"
      ]
     },
     "metadata": {},
     "output_type": "display_data"
    }
   ],
   "source": [
    "# Plot confusion matrix\n",
    "cm = confusion_matrix(y_true, y_pred_classes)\n",
    "plt.figure(figsize=(6, 6))\n",
    "sns.heatmap(cm, annot=True, fmt=\"d\", cmap=\"Blues\")\n",
    "plt.xlabel(\"Predicted labels\")\n",
    "plt.ylabel(\"True labels\")\n",
    "plt.title(\"Confusion Matrix\")\n",
    "plt.show()\n",
    "\n",
    "# Calculate ROC curve and AUC\n",
    "fpr, tpr, thresholds = roc_curve(y_true, y_pred_classes)\n",
    "roc_auc = auc(fpr, tpr)\n",
    "\n",
    "# Plot ROC curve\n",
    "plt.figure(figsize=(6,6))\n",
    "plt.plot(fpr, tpr, color='blue', lw=2, label='ROC curve (area = 0.83)' % roc_auc)\n",
    "plt.plot([0, 1], [0, 1], color='red', linestyle='--')\n",
    "plt.xlim([0.0, 1.0])\n",
    "plt.ylim([0.0, 1.05])\n",
    "plt.xlabel('False Positive Rate')\n",
    "plt.ylabel('True Positive Rate')\n",
    "plt.title('Receiver Operating Characteristic (ROC) Curve')\n",
    "plt.legend(loc=\"lower right\")\n",
    "plt.show()"
   ]
  },
  {
   "cell_type": "code",
   "execution_count": null,
   "metadata": {},
   "outputs": [],
   "source": []
  }
 ],
 "metadata": {
  "kernelspec": {
   "display_name": "Python 3 (ipykernel)",
   "language": "python",
   "name": "python3"
  },
  "language_info": {
   "codemirror_mode": {
    "name": "ipython",
    "version": 3
   },
   "file_extension": ".py",
   "mimetype": "text/x-python",
   "name": "python",
   "nbconvert_exporter": "python",
   "pygments_lexer": "ipython3",
   "version": "3.11.5"
  }
 },
 "nbformat": 4,
 "nbformat_minor": 4
}
